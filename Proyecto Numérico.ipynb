import math
import numpy as np
from matplotlib import pyplot as plt
from scipy.integrate import odeint
#import random
%matplotlib inline 

a=1
Phi_t=[1]
t=[0]
counter=1

def V_1(m,P):
 return -(m*m*P*P)*0.5
def V_2(s,P):
 return -(P*P) - (P*P*P*s)/6

try:
    dt=float(input("Diferencial de dimension dt: "))
    Rango=float(input("Parametro de la gráfica: "))
    Divisiones=Rango/dt
    A=float(input("Primer valor de la derivada en el punto 0, \"e\": "))
    choosefunction=int(input(' \"1\" Para comenzar con potencial \"V=((mP)^2)/2\" , \"2\" si desea el algoritmo \"V=((mP)^2)*0.5 + (s(P)^3)/6\" con m=1  : '))
except ValueError as err:
    print(err)
deltat=dt

  if choosefunction==1:
    
    try:
        m=float(input('Masa?, \"m\": '))
    except ValueError as err:
        print(err)
    
    while counter<division:
        if contador%2 != 0:
            t.append(Delta_t)
            b=dt*A+a
            A+=dt*(V_1(m,a))
            Phi_t.append(b)
            Delta_t+=dt
        
        elif counter%2 == 0:
            t.append(Delta_t)
            a=dt*A+b
            A+=dt*(V_1(m,b)) 
            Phi_t.append(a)
            Delta_t+=dt
     
       counter+=1
                
elif choosefunction==2:
    
    try:
        s=float(input('Valor de lamba, \"s\": '))
    except ValueError as err:
        print(err)
       
    while counter<division:
        if counter%2 != 0:
            t.append(Delta_t)
            b=dt*A+a
            A+=dt*V_2(s,a) 
            Phi_t.append(b)
            deltat+=dt   
        elif counter%2 == 0:
            t.append(deltat)
            a=dt*A+b
            A+=dt*V_2(s,b) 
            Phi_t.append(a)
            deltat+=dt
   counter+=1
        

else:
    print("Valor no aceptado")
  #decline    
    
plt.plot(t,Phi_t,"-r",label="f")
